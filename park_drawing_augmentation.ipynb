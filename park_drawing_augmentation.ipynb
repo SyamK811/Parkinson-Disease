{
 "cells": [
  {
   "cell_type": "code",
   "execution_count": null,
   "metadata": {},
   "outputs": [],
   "source": [
    "from tensorflow.keras.preprocessing.image import ImageDataGenerator, load_img, img_to_array\n",
    "import os\n",
    "\n",
    "# Define the paths for the new dataset\n",
    "base_dir = r'C:\\Users\\HP-NBT\\Desktop\\project\\Dissertation\\dataset'\n",
    "augmented_dir = r'C:\\Users\\HP-NBT\\Desktop\\project\\Dissertation\\dataset\\augmented_images'"
   ]
  },
  {
   "cell_type": "code",
   "execution_count": 2,
   "metadata": {},
   "outputs": [],
   "source": [
    "# Define augmentation parameters\n",
    "datagen = ImageDataGenerator(\n",
    "    rotation_range=40,\n",
    "    width_shift_range=0.2,\n",
    "    height_shift_range=0.2,\n",
    "    shear_range=0.2,\n",
    "    zoom_range=0.2,\n",
    "    horizontal_flip=True,\n",
    "    fill_mode='nearest'\n",
    ")\n"
   ]
  },
  {
   "cell_type": "code",
   "execution_count": null,
   "metadata": {},
   "outputs": [],
   "source": [
    "def apply_augmentations(src_dir, dest_dir):\n",
    "\n",
    "    if not os.path.exists(dest_dir):\n",
    "        os.makedirs(dest_dir)\n",
    "    \n",
    "    # Walk through the source directory and apply augmentation\n",
    "    for subdir, dirs, files in os.walk(src_dir):\n",
    "        for file in files:\n",
    "            file_path = os.path.join(subdir, file)\n",
    "            image = load_img(file_path)\n",
    "            x = img_to_array(image)\n",
    "            x = x.reshape((1,) + x.shape) \n",
    "\n",
    "            i = 0\n",
    "            for batch in datagen.flow(x, save_to_dir=dest_dir, save_prefix='aug', save_format='jpeg'):\n",
    "                i += 1\n",
    "                if i >= 5:  # Stop after 5 augmented images\n",
    "                    break\n"
   ]
  },
  {
   "cell_type": "code",
   "execution_count": null,
   "metadata": {},
   "outputs": [],
   "source": [
    "for data_type in ['spiral', 'wave']:\n",
    "    for label in ['healthy', 'parkinson']:\n",
    "        src_dir = os.path.join(base_dir, data_type, 'training', label)\n",
    "        dest_dir = os.path.join(augmented_dir, data_type, 'training', label)\n",
    "        apply_augmentations(src_dir, dest_dir)"
   ]
  }
 ],
 "metadata": {
  "kernelspec": {
   "display_name": "Python 3",
   "language": "python",
   "name": "python3"
  },
  "language_info": {
   "codemirror_mode": {
    "name": "ipython",
    "version": 3
   },
   "file_extension": ".py",
   "mimetype": "text/x-python",
   "name": "python",
   "nbconvert_exporter": "python",
   "pygments_lexer": "ipython3",
   "version": "3.11.3"
  }
 },
 "nbformat": 4,
 "nbformat_minor": 2
}
